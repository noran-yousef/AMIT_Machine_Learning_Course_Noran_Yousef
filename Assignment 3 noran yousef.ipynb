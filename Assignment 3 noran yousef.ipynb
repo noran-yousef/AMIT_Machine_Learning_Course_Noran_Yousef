{
 "cells": [
  {
   "cell_type": "markdown",
   "metadata": {},
   "source": [
    "# Assignment 3"
   ]
  },
  {
   "cell_type": "markdown",
   "metadata": {},
   "source": [
    "### Write a function to count the number 4 in a given list."
   ]
  },
  {
   "cell_type": "code",
   "execution_count": 3,
   "metadata": {},
   "outputs": [
    {
     "data": {
      "text/plain": [
       "9"
      ]
     },
     "execution_count": 3,
     "metadata": {},
     "output_type": "execute_result"
    }
   ],
   "source": [
    "list=[1,2,3,4,4,4,3,4,7,4,8,4,9,4,4,6,8,0,3,6,4]\n",
    "list1=[x for x in list if x==4 ]\n",
    "len(list1)"
   ]
  },
  {
   "cell_type": "markdown",
   "metadata": {},
   "source": [
    "### write a  function to check whether a number is divisible by another number."
   ]
  },
  {
   "cell_type": "code",
   "execution_count": 9,
   "metadata": {},
   "outputs": [
    {
     "name": "stdout",
     "output_type": "stream",
     "text": [
      "10 is divisible by 2\n"
     ]
    }
   ],
   "source": [
    " x=10\n",
    " x1=2\n",
    " if x%x1==0 :\n",
    "    print('{} is divisible by {}'.format(x,x1))\n",
    " else :\n",
    "     print('{} is not divisible by {}'.format(x,x1))"
   ]
  },
  {
   "cell_type": "markdown",
   "metadata": {},
   "source": [
    "### write a function to find the maximum and minimum numbers from a sequence of numbers."
   ]
  },
  {
   "cell_type": "code",
   "execution_count": 16,
   "metadata": {},
   "outputs": [
    {
     "name": "stdout",
     "output_type": "stream",
     "text": [
      "25 is maximum number\n",
      "-1 is minimum number\n"
     ]
    }
   ],
   "source": [
    "#find maximum\n",
    "list=[5,3,10,11,1,6,15,14,19,20,25]\n",
    "for x in list :\n",
    "    temp=0\n",
    "    if(temp<x) :\n",
    "        temp=x\n",
    "print('{} is maximum number'.format(temp))\n",
    "\n",
    "#find minimum\n",
    "list=[5,3,10,11,1,6,15,14,19,20,25,-1]\n",
    "for x in list :\n",
    "    temp=1\n",
    "    if(temp>x) :\n",
    "        temp=x\n",
    "print('{} is minimum number'.format(temp))\n",
    "     \n",
    "  "
   ]
  },
  {
   "cell_type": "markdown",
   "metadata": {},
   "source": [
    "### Write a Python function that takes two lists and returns True if they have at least one common member."
   ]
  },
  {
   "cell_type": "code",
   "execution_count": 23,
   "metadata": {},
   "outputs": [
    {
     "data": {
      "text/plain": [
       "'true'"
      ]
     },
     "execution_count": 23,
     "metadata": {},
     "output_type": "execute_result"
    }
   ],
   "source": [
    "list1=[1,3,5,8,6,9,2]\n",
    "list2=[1,33,35,85,67,91,2]\n",
    "\n",
    "\n",
    "def bare(list1,list2):\n",
    "  for x in list1:\n",
    "    for x1 in list2:\n",
    "        if x==x1:\n",
    "            return 'true'\n",
    "  return 'false' \n",
    "\n",
    "bare(list1,list2)"
   ]
  },
  {
   "cell_type": "markdown",
   "metadata": {},
   "source": [
    "### Write a Python function to calculate the factorial of a number (a non-negative integer). The function accepts the number from the user"
   ]
  },
  {
   "cell_type": "code",
   "execution_count": 25,
   "metadata": {},
   "outputs": [
    {
     "name": "stdout",
     "output_type": "stream",
     "text": [
      "Input a number to compute the factiorial : 4\n",
      "24\n"
     ]
    }
   ],
   "source": [
    "def factorial(n):\n",
    "    if n == 0:\n",
    "        return 1\n",
    "    else:\n",
    "        return n * factorial(n-1)\n",
    "n=int(input(\"Input a number to compute the factiorial : \"))\n",
    "print(factorial(n))"
   ]
  },
  {
   "cell_type": "markdown",
   "metadata": {},
   "source": [
    "### Write a Python function to check whether a number is in a given range.\n",
    "\n",
    "### The range is from 3 to 11\n"
   ]
  },
  {
   "cell_type": "code",
   "execution_count": 35,
   "metadata": {},
   "outputs": [
    {
     "name": "stdout",
     "output_type": "stream",
     "text": [
      "5 is within range\n"
     ]
    }
   ],
   "source": [
    "def if_in_range(upper_range,lower_range,number):\n",
    "    if number < upper_range and number > lower_range:\n",
    "        print('{} is within range'.format(number))\n",
    "    else :\n",
    "        print('{} is not within range'.format(number))\n",
    "        \n",
    "if_in_range(11,3,5)        \n",
    "        \n",
    "        "
   ]
  },
  {
   "cell_type": "markdown",
   "metadata": {},
   "source": [
    "### Write a  program to create the multiplication table (from 1 to 10) of a number."
   ]
  },
  {
   "cell_type": "code",
   "execution_count": 37,
   "metadata": {},
   "outputs": [
    {
     "name": "stdout",
     "output_type": "stream",
     "text": [
      "multiblcation table for number 1\n",
      "1 * 1 =1\n",
      "1 * 2 =2\n",
      "1 * 3 =3\n",
      "1 * 4 =4\n",
      "1 * 5 =5\n",
      "1 * 6 =6\n",
      "1 * 7 =7\n",
      "1 * 8 =8\n",
      "1 * 9 =9\n",
      "1 * 10 =10\n",
      "multiblcation table for number 2\n",
      "2 * 1 =2\n",
      "2 * 2 =4\n",
      "2 * 3 =6\n",
      "2 * 4 =8\n",
      "2 * 5 =10\n",
      "2 * 6 =12\n",
      "2 * 7 =14\n",
      "2 * 8 =16\n",
      "2 * 9 =18\n",
      "2 * 10 =20\n",
      "multiblcation table for number 3\n",
      "3 * 1 =3\n",
      "3 * 2 =6\n",
      "3 * 3 =9\n",
      "3 * 4 =12\n",
      "3 * 5 =15\n",
      "3 * 6 =18\n",
      "3 * 7 =21\n",
      "3 * 8 =24\n",
      "3 * 9 =27\n",
      "3 * 10 =30\n",
      "multiblcation table for number 4\n",
      "4 * 1 =4\n",
      "4 * 2 =8\n",
      "4 * 3 =12\n",
      "4 * 4 =16\n",
      "4 * 5 =20\n",
      "4 * 6 =24\n",
      "4 * 7 =28\n",
      "4 * 8 =32\n",
      "4 * 9 =36\n",
      "4 * 10 =40\n",
      "multiblcation table for number 5\n",
      "5 * 1 =5\n",
      "5 * 2 =10\n",
      "5 * 3 =15\n",
      "5 * 4 =20\n",
      "5 * 5 =25\n",
      "5 * 6 =30\n",
      "5 * 7 =35\n",
      "5 * 8 =40\n",
      "5 * 9 =45\n",
      "5 * 10 =50\n",
      "multiblcation table for number 6\n",
      "6 * 1 =6\n",
      "6 * 2 =12\n",
      "6 * 3 =18\n",
      "6 * 4 =24\n",
      "6 * 5 =30\n",
      "6 * 6 =36\n",
      "6 * 7 =42\n",
      "6 * 8 =48\n",
      "6 * 9 =54\n",
      "6 * 10 =60\n",
      "multiblcation table for number 7\n",
      "7 * 1 =7\n",
      "7 * 2 =14\n",
      "7 * 3 =21\n",
      "7 * 4 =28\n",
      "7 * 5 =35\n",
      "7 * 6 =42\n",
      "7 * 7 =49\n",
      "7 * 8 =56\n",
      "7 * 9 =63\n",
      "7 * 10 =70\n",
      "multiblcation table for number 8\n",
      "8 * 1 =8\n",
      "8 * 2 =16\n",
      "8 * 3 =24\n",
      "8 * 4 =32\n",
      "8 * 5 =40\n",
      "8 * 6 =48\n",
      "8 * 7 =56\n",
      "8 * 8 =64\n",
      "8 * 9 =72\n",
      "8 * 10 =80\n",
      "multiblcation table for number 9\n",
      "9 * 1 =9\n",
      "9 * 2 =18\n",
      "9 * 3 =27\n",
      "9 * 4 =36\n",
      "9 * 5 =45\n",
      "9 * 6 =54\n",
      "9 * 7 =63\n",
      "9 * 8 =72\n",
      "9 * 9 =81\n",
      "9 * 10 =90\n",
      "multiblcation table for number 10\n",
      "10 * 1 =10\n",
      "10 * 2 =20\n",
      "10 * 3 =30\n",
      "10 * 4 =40\n",
      "10 * 5 =50\n",
      "10 * 6 =60\n",
      "10 * 7 =70\n",
      "10 * 8 =80\n",
      "10 * 9 =90\n",
      "10 * 10 =100\n"
     ]
    }
   ],
   "source": [
    "def multiplication_table() :\n",
    "    for x in range(1,11):\n",
    "        print('multiblcation table for number {}'.format(x))\n",
    "        for x1 in range(1,11):\n",
    "            xv=x*x1\n",
    "            print('{} * {} ={}'.format(x,x1,xv))\n",
    "            \n",
    "multiplication_table()   "
   ]
  },
  {
   "cell_type": "markdown",
   "metadata": {},
   "source": [
    "#### LESSER OF TWO EVENS: Write a function that returns the lesser of two given numbers *if* both numbers are even, but returns the greater if one or both numbers are odd\n",
    "    lesser_of_two_evens(2,4) --> 2\n",
    "    lesser_of_two_evens(2,5) --> 5"
   ]
  },
  {
   "cell_type": "code",
   "execution_count": 42,
   "metadata": {},
   "outputs": [
    {
     "name": "stdout",
     "output_type": "stream",
     "text": [
      "2\n",
      "5\n"
     ]
    }
   ],
   "source": [
    "def lesser_of_two_evens(number1,number2):\n",
    "    if number1%2==0 and number2%2==0:\n",
    "       return min(number1,number2)\n",
    "\n",
    "    if number1%2!=0 or number2%2!=0:\n",
    "       return max(number1,number2)\n",
    "print(lesser_of_two_evens(2,4))\n",
    "print(lesser_of_two_evens(2,5))"
   ]
  },
  {
   "cell_type": "markdown",
   "metadata": {},
   "source": [
    "#### ANIMAL CRACKERS: Write a function takes a two-word string and returns True if both words begin with same letter\n",
    "    animal_crackers('Levelheaded Llama') --> True\n",
    "    animal_crackers('Crazy Kangaroo') --> False"
   ]
  },
  {
   "cell_type": "code",
   "execution_count": 61,
   "metadata": {},
   "outputs": [
    {
     "name": "stdout",
     "output_type": "stream",
     "text": [
      "true\n",
      "false\n"
     ]
    }
   ],
   "source": [
    "def ANIMAL_CRACKERS(st):\n",
    "    st1=st.split()\n",
    "    if st1[0][0]==st1[1][0]:\n",
    "        return 'true'\n",
    "    else :\n",
    "        return 'false'\n",
    "\n",
    "print(ANIMAL_CRACKERS('Levelheaded Llama')) \n",
    "print(ANIMAL_CRACKERS('Crazy Kangaroo') )"
   ]
  },
  {
   "cell_type": "markdown",
   "metadata": {},
   "source": [
    "#### MAKES TWENTY: Given two integers, return True if the sum of the integers is 20 *or* if one of the integers is 20. If not, return False\n",
    "\n",
    "    makes_twenty(20,10) --> True\n",
    "    makes_twenty(12,8) --> True\n",
    "    makes_twenty(2,3) --> False"
   ]
  },
  {
   "cell_type": "code",
   "execution_count": 59,
   "metadata": {},
   "outputs": [
    {
     "name": "stdout",
     "output_type": "stream",
     "text": [
      "true\n",
      "true\n",
      "false\n"
     ]
    }
   ],
   "source": [
    "def MAKES_TWENTY(number1,number2):\n",
    "    sum=number1+number2\n",
    "    if number1 ==20 or number2 ==20 or sum==20:\n",
    "        return 'true'\n",
    "    else :\n",
    "        return 'false'\n",
    "    \n",
    "print(MAKES_TWENTY(20,10) )\n",
    "print(MAKES_TWENTY(12,8) )\n",
    "print(MAKES_TWENTY(2,3) )"
   ]
  },
  {
   "cell_type": "markdown",
   "metadata": {},
   "source": [
    "#### ALMOST THERE: Given an integer n, return True if n is within 10 of either 100 or 200\n",
    "\n",
    "    almost_there(90) --> True\n",
    "    almost_there(104) --> True\n",
    "    almost_there(150) --> False\n",
    "    almost_there(209) --> True\n",
    "    \n",
    "NOTE: `abs(num)` returns the absolute value of a number"
   ]
  },
  {
   "cell_type": "code",
   "execution_count": 65,
   "metadata": {},
   "outputs": [
    {
     "name": "stdout",
     "output_type": "stream",
     "text": [
      "true\n",
      "true\n",
      "false\n",
      "true\n"
     ]
    }
   ],
   "source": [
    "def ALMOST_THERE(number):\n",
    "    number=abs(number)\n",
    "    if number in range(90,111) or number in range(190,211):\n",
    "        return 'true'\n",
    "    else :\n",
    "        return 'false'\n",
    "    \n",
    "print (ALMOST_THERE(90))\n",
    "print (ALMOST_THERE(104))\n",
    "print (ALMOST_THERE(150))\n",
    "print (ALMOST_THERE(209) "
   ]
  },
  {
   "cell_type": "markdown",
   "metadata": {},
   "source": [
    "#### BLACKJACK: Given three integers between 1 and 11, if their sum is less than or equal to 21, return their sum. If their sum exceeds 21 *and* there's an eleven, reduce the total sum by 10. Finally, if the sum  exceeds 21, return 'BUST'\n",
    "    blackjack(5,6,7) --> 18\n",
    "    blackjack(9,9,9) --> 'BUST'\n",
    "    blackjack(9,9,11) --> 19"
   ]
  },
  {
   "cell_type": "code",
   "execution_count": 72,
   "metadata": {},
   "outputs": [
    {
     "name": "stdout",
     "output_type": "stream",
     "text": [
      "18\n",
      "BUST\n",
      "19\n",
      "not within correct range\n"
     ]
    }
   ],
   "source": [
    "def BLACKJACK(number1,number2,number3):\n",
    "    if number1 in range(1,12) and number2 in range(1,12) and number3 in range(1,12):\n",
    "        sum=(number1+number2+number3) \n",
    "        if sum <= 21:\n",
    "            return sum\n",
    "        elif sum>21 and (number1==11 or number2==11 or number3==11):\n",
    "            sum-=10;\n",
    "            return sum\n",
    "        elif sum>21:\n",
    "            return 'BUST'\n",
    "            \n",
    "    else :\n",
    "        return 'not within correct range'\n",
    "print(BLACKJACK(5,6,7))\n",
    "print(BLACKJACK(9,9,9))\n",
    "print(BLACKJACK(9,9,11))   \n",
    "print(BLACKJACK(9,15,11)) "
   ]
  },
  {
   "cell_type": "code",
   "execution_count": null,
   "metadata": {},
   "outputs": [],
   "source": []
  }
 ],
 "metadata": {
  "kernelspec": {
   "display_name": "Python 3 (ipykernel)",
   "language": "python",
   "name": "python3"
  },
  "language_info": {
   "codemirror_mode": {
    "name": "ipython",
    "version": 3
   },
   "file_extension": ".py",
   "mimetype": "text/x-python",
   "name": "python",
   "nbconvert_exporter": "python",
   "pygments_lexer": "ipython3",
   "version": "3.9.7"
  }
 },
 "nbformat": 4,
 "nbformat_minor": 2
}
